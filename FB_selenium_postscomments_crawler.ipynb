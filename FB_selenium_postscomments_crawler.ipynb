{
 "cells": [
  {
   "cell_type": "code",
   "execution_count": 1,
   "metadata": {},
   "outputs": [],
   "source": [
    "import pandas as pd\n",
    "import re, time, requests, sys, json, tqdm\n",
    "from selenium import webdriver\n",
    "from bs4 import BeautifulSoup\n",
    "from ipywidgets import IntProgress\n",
    "from IPython.display import display"
   ]
  },
  {
   "cell_type": "code",
   "execution_count": 2,
   "metadata": {},
   "outputs": [],
   "source": [
    "def LoginFacebook(email, pwd):\n",
    "    #前往臉書\n",
    "    driver.get(\"http://www.facebook.com\")\n",
    "    \n",
    "    #搜尋和輸入帳號密碼\n",
    "    Email_Input = driver.find_element_by_id(\"email\")\n",
    "    Password_Input  = driver.find_element_by_id(\"pass\")\n",
    "    \n",
    "    try:\n",
    "        SubmitBtn   = driver.find_element_by_id(\"loginbutton\")\n",
    "    except:\n",
    "        SubmitBtn   = driver.find_element_by_id(\"login\")\n",
    "        \n",
    "    #輸入帳密   \n",
    "    Email_Input.send_keys(email)\n",
    "    Password_Input.send_keys(pwd)\n",
    "    \n",
    "    #按下登入按鈕\n",
    "    SubmitBtn.click()"
   ]
  },
  {
   "cell_type": "code",
   "execution_count": 3,
   "metadata": {},
   "outputs": [],
   "source": [
    "# 取得連結\n",
    "# def FindLinks(url, n):\n",
    "#     Links = []\n",
    "#     driver.get(url)\n",
    "    \n",
    "#     for i in range(n):\n",
    "#         #下拉至頁面底端\n",
    "#         driver.execute_script('window.scrollTo(0, document.body.scrollHeight);')\n",
    "#         #等待 3 秒 \n",
    "#         time.sleep(3)\n",
    "        \n",
    "#     #尋找\n",
    "#     driver.find_element_by_xpath('//a[@id=\"expanding_cta_close_button\"]').click()\n",
    "#     soup = BeautifulSoup(driver.page_source)\n",
    "#     posts = soup.findAll('div', {'class':'clearfix y_c3pyo2ta3'})\n",
    "    \n",
    "#     for i in posts:\n",
    "#         Links.append('https://www.facebook.com' + i.find('a',{'class':'_5pcq'}).attrs['href'].split('?',2)[0])\n",
    "        \n",
    "#     return Links"
   ]
  },
  {
   "cell_type": "code",
   "execution_count": 4,
   "metadata": {},
   "outputs": [],
   "source": [
    "#內文，基本資料\n",
    "def PostContent(soup,link):\n",
    "    #粉專名稱\n",
    "    try:\n",
    "        Name = soup.find('h3', class_='_52jd _52jb _52jh _5qc3 _4vc- _3rc4 _4vc-').text\n",
    "    except:\n",
    "        try:\n",
    "            Name = soup.find('div', class_='msg').find('strong', class_='actor').text\n",
    "        except:\n",
    "            try:\n",
    "                Name = soup.find('h3', class_='_52jd _52jb _52jg _5qc3 _4vc- _3rc4 _4vc-').find('strong').text\n",
    "            except:\n",
    "                Name = 'None'\n",
    "        \n",
    "    #超連結\n",
    "    try:\n",
    "        Link = link\n",
    "    except:\n",
    "        Link = 'None'\n",
    "        \n",
    "    #發文時間    \n",
    "    try:\n",
    "        Time = soup.find('div', class_='_52jc _5qc4 _78cz _24u0 _36xo').text\n",
    "    except:\n",
    "        try:\n",
    "            Time = soup.find('div', class_='_2vja mfss fcg').find('abbr').text\n",
    "        except:\n",
    "            Time = 'None'\n",
    "        \n",
    "    # 文章內容\n",
    "    try:\n",
    "        Content = soup.find('div', class_='_5rgt _5nk5').text\n",
    "    except:\n",
    "        try:\n",
    "            Content = soup.find('div', class_='msg').find('div', class_='').text\n",
    "        except:\n",
    "            Content = 'None'\n",
    "        \n",
    "    print('Name:{}\\nLink:{}\\nTime:{}\\nContent:{}'.format(Name, Link, Time, Content))\n",
    "    \n",
    "    #寫入寫入DataFrame\n",
    "    Post_DataFrame = pd.DataFrame(data = [\n",
    "            {\n",
    "                'Name':Name,\n",
    "                'Link' : Link,\n",
    "                'Time' : Time,\n",
    "                'Content' : Content\n",
    "            }\n",
    "        ],columns = [\n",
    "            'Name', \n",
    "            'Link', \n",
    "            'Time', \n",
    "            'Content'\n",
    "        ])\n",
    "    \n",
    "    return Post_DataFrame"
   ]
  },
  {
   "cell_type": "code",
   "execution_count": 5,
   "metadata": {
    "scrolled": true
   },
   "outputs": [],
   "source": [
    "# 留言\n",
    "def CrawlComment(soup, link):\n",
    "    #建立DataFrame\n",
    "    Comment_DataFrame = pd.DataFrame()\n",
    "    \n",
    "    #顯示進度條\n",
    "    comment_progress = IntProgress()\n",
    "    display(comment_progress)\n",
    "    \n",
    "    #取得貼文連結\n",
    "    Post_Link = link\n",
    "    \n",
    "    #爬取前30篇     \n",
    "    Top_Thirty_Comment_List = soup.findAll('div', class_='_2a_i')\n",
    "    for i in Top_Thirty_Comment_List:\n",
    "        User_ID = i.find('div', class_='_2a_j')['data-sigil'].split('feed_story_ring')[1]\n",
    "        Comment = i.find('div', {'data-sigil':'comment-body'}).text\n",
    "        if i.find('div', {'data-sigil':'comment-body'}).has_attr('class'):    \n",
    "            Comment = 'Sticker'\n",
    "        Comment_Time = i.find('abbr', class_=\"_4ghv _2b0a\").text\n",
    "        #判斷是否為頭號粉絲     \n",
    "        try:\n",
    "            Fan_Type = i.find('div', class_='_2b05').find('div', class_='_7_cb _3-8m').text\n",
    "            Fan_Type = 1\n",
    "        except:\n",
    "            Fan_Type = 0\n",
    "        #判斷是有附圖片、影片\n",
    "        try:\n",
    "            i.find('div', class_='_14v5').find('div', class_='_2b1t attachment').text\n",
    "            Attachment = 1\n",
    "        except: \n",
    "            Attachment = 0\n",
    "        \n",
    "        #寫入DataFrame    \n",
    "        Comment_DataFrame = WriteCommentToDF(Comment_DataFrame, Post_Link, User_ID, Comment, Comment_Time, Attachment, Fan_Type)\n",
    "        \n",
    "    # 前往API\n",
    "    API_url = soup.find(\"a\", {\"class\":\"_108_\"})['data-ajaxify-href']\n",
    "    API_url = 'https://mobile.facebook.com{}'.format(API_url)\n",
    "    driver.get(API_url)\n",
    "    \n",
    "    \n",
    "    #迴圈爬取全部留言\n",
    "    loop = True\n",
    "    while loop:\n",
    "        # 編碼為unicode-escape and html 格式\n",
    "        soup = BeautifulSoup(driver.page_source)\n",
    "        Text = soup.text\n",
    "        Decode_Text = Text.encode().decode('unicode-escape').replace('\\\\','')\n",
    "\n",
    "        # 取得評論清單\n",
    "        Comment_List = Decode_Text.split('_2a_i')[1:]\n",
    "        \n",
    "        # 取出評論與USER_ID\n",
    "        for i in range(len(Comment_List)):\n",
    "            \n",
    "            #搜尋ID\n",
    "            User_ID = Comment_List[i].split('<a class=\"_14v8')[0].split('data-sigil=\"feed_story_ring')[1].split('\">')[0]\n",
    "            #評論#處理表情符號\n",
    "            Comment = str(BeautifulSoup(Comment_List[i].split('comment-body\">')[1].split('<a class=\"_14v8')[0]).text)\n",
    "            Comment = Comment.encode('utf-16', 'surrogatepass').decode('utf-16')\n",
    "            #評論時間\n",
    "            Comment_Time = Comment_List[i].split('_4ghv _2b0a\">')[1].split('</abbr>')[0]\n",
    "            Attachment = 1\n",
    "            Fan_Type = 0\n",
    "            \n",
    "            #判別          \n",
    "            try:\n",
    "                #判別是否有附件    \n",
    "                if '_2b1t attachment' not in Comment_List[i]:\n",
    "                    Attachment = 0\n",
    "                #判別是否為頭號粉絲\n",
    "                if '_7_cb _3-8m' in Comment_List[i].split('comment-body\">')[1].split('<a class=\"_14v8')[0]:\n",
    "                    Fan_Type = 1\n",
    "                #判別評論是否只有圖片\n",
    "                if '_4kk6' in Comment_List[i].split('comment-body\">')[1].split('<a class=\"_14v8')[0]:\n",
    "                    Comment = 'Sticker'\n",
    "            except:\n",
    "                print('error')\n",
    "                \n",
    "            #寫入DataFrame    \n",
    "            Comment_DataFrame = WriteCommentToDF(Comment_DataFrame, Post_Link, User_ID, Comment, Comment_Time, Attachment, Fan_Type)\n",
    "            \n",
    "        \n",
    "        #取得下一個API 的 Ul\n",
    "        try:\n",
    "            Head_index = Text.find('_108_')\n",
    "            Tail_index = Text.find('_5msp')\n",
    "            Next_API_url = 'https://m.facebook.com/ajax{}'.format(Text[Head_index:Tail_index].split()[1][27:].split('\\\\')[0])\n",
    "           \n",
    "            Total = Next_API_url.split('count=')[1].split('&')[0]\n",
    "            Num = Next_API_url.split('p=')[1].split('&')[0]\n",
    "            \n",
    "            comment_progress.max = float(Total)\n",
    "            comment_progress.value = float(Num)\n",
    "            comment_progress.description = str(((float(Num))/float(Total))*100)\n",
    "            #前往 下30筆留言API超連結\n",
    "            driver.get(Next_API_url)\n",
    "        except:\n",
    "            loop = False\n",
    "            comment_progress.description = '完成'\n",
    "            pass\n",
    "        \n",
    "    return Comment_DataFrame\n",
    "\n",
    "def WriteCommentToDF(Comment_DataFrame, Post_Link, User_ID, Comment, Comment_Time, Attachment, Fan_Type):\n",
    "    #寫入DataFrame\n",
    "    Comment_Result = pd.DataFrame(data = [\n",
    "        {\n",
    "            'Post_Link' : Post_Link,\n",
    "            'User_ID' : User_ID,\n",
    "            'Comment' : Comment,\n",
    "            'Comment_Time' : Comment_Time,\n",
    "            'Attachment' : Attachment,\n",
    "            'Fan_Type' : Fan_Type\n",
    "        }\n",
    "    ],columns = [\n",
    "        'Post_Link', \n",
    "        'User_ID', \n",
    "        'Comment',\n",
    "        'Comment_Time',\n",
    "        'Attachment',\n",
    "        'Fan_Type'\n",
    "    ])\n",
    "    \n",
    "    return pd.concat([Comment_DataFrame, Comment_Result], ignore_index=True)"
   ]
  },
  {
   "cell_type": "markdown",
   "metadata": {},
   "source": [
    "# main "
   ]
  },
  {
   "cell_type": "code",
   "execution_count": 7,
   "metadata": {},
   "outputs": [],
   "source": [
    "# 開啟瀏覽器\n",
    "driver = webdriver.Chrome(executable_path='./cdriver')\n",
    "\n",
    "# 帳號 密碼\n",
    "email = 'your email'\n",
    "pwd = 'your password'\n",
    "# 登入\n",
    "LoginFacebook(email, pwd)"
   ]
  },
  {
   "cell_type": "code",
   "execution_count": 10,
   "metadata": {
    "scrolled": false
   },
   "outputs": [
    {
     "name": "stdout",
     "output_type": "stream",
     "text": [
      "https://m.facebook.com/tsaiingwen/posts/10156349477186065  處理中...\n",
      "Name:蔡英文 Tsai Ing-wen\n",
      "Link:https://m.facebook.com/tsaiingwen/posts/10156349477186065\n",
      "Time:January 5 at 4:45 PM · \n",
      "Content:我在台南的造勢活動現場，也在這裡的朋友留言讓我知道好嗎？ 立委 第一選區3號賴惠員 第二選區3號郭國文 第三選區3號陳亭妃 第四選區6號林宜瑾 第五選區3號林俊憲 第六選區4號王定宇\n"
     ]
    },
    {
     "data": {
      "application/vnd.jupyter.widget-view+json": {
       "model_id": "0d8755e5bb2346be9cb3e58e8bb10cc0",
       "version_major": 2,
       "version_minor": 0
      },
      "text/plain": [
       "IntProgress(value=0)"
      ]
     },
     "metadata": {},
     "output_type": "display_data"
    },
    {
     "name": "stderr",
     "output_type": "stream",
     "text": [
      "/usr/local/lib/python3.7/site-packages/ipykernel_launcher.py:49: DeprecationWarning: invalid escape sequence '\\/'\n"
     ]
    },
    {
     "name": "stdout",
     "output_type": "stream",
     "text": [
      "https://m.facebook.com/tsaiingwen/photos/a.390960786064/10156349665556065/  處理中...\n",
      "Name:蔡英文 Tsai Ing-wen\n",
      "Link:https://m.facebook.com/tsaiingwen/photos/a.390960786064/10156349665556065/\n",
      "Time:Jan 5\n",
      "Content:當國人為國軍將士的殉職全民一體、同感哀傷的時刻，韓國瑜市長卻用「台灣中邪了、國運不昌隆」這樣的話語來消費將士的犧牲，相信全體國人都無法接受這樣的話語，而同感憤慨。 　　 我要正告韓國瑜市長和國民黨陣營：不應該一再消費台灣人民的傷痛，作為選舉抹黑的題材，那對逝者是最大的不敬，也是對生者最殘忍的傷害。 　　 台灣的國運，一直都繫於2300萬全體國人的共同努力、團結奮起。我也要說，台灣的未來，絕不能有一個失格的領導者，會用輕蔑失格的語言，來消費踐踏人民的傷痛，造成台灣社會的紛擾不止、國家的前景堪憂。韓市長離譜的言行，應該深切反省，向家屬、國軍與國人道歉。\n"
     ]
    },
    {
     "data": {
      "application/vnd.jupyter.widget-view+json": {
       "model_id": "e5bf3d8d18f0493cb4756124e995ff70",
       "version_major": 2,
       "version_minor": 0
      },
      "text/plain": [
       "IntProgress(value=0)"
      ]
     },
     "metadata": {},
     "output_type": "display_data"
    },
    {
     "name": "stdout",
     "output_type": "stream",
     "text": [
      "https://m.facebook.com/tsaiingwen/photos/a.390960786064/10156349337906065/  處理中...\n",
      "Name:蔡英文 Tsai Ing-wen\n",
      "Link:https://m.facebook.com/tsaiingwen/photos/a.390960786064/10156349337906065/\n",
      "Time:Jan 5\n",
      "Content:今天下午15:12分，TVBS將播出這段時間採訪我和我的幕僚的專題「蔡英文改變進行式」，大家可以收看電視頻道或線上直播！  直播連結：https://news.tvbs.com.tw/live/news4live/18http:/www.dramaq.biz/http:/media.pbplus.me/11497http:/www.ttv.com.tw/videocity/video_play.asp\n"
     ]
    },
    {
     "data": {
      "application/vnd.jupyter.widget-view+json": {
       "model_id": "5fa3411ea5b44c179d33d9b44065509e",
       "version_major": 2,
       "version_minor": 0
      },
      "text/plain": [
       "IntProgress(value=0)"
      ]
     },
     "metadata": {},
     "output_type": "display_data"
    },
    {
     "name": "stdout",
     "output_type": "stream",
     "text": [
      "https://m.facebook.com/tsaiingwen/photos/a.390960786064/10156349212281065/  處理中...\n",
      "Name:蔡英文 Tsai Ing-wen\n",
      "Link:https://m.facebook.com/tsaiingwen/photos/a.390960786064/10156349212281065/\n",
      "Time:Jan 5\n",
      "Content:你收到選舉公報了嗎？距離投票的日子只剩下6天，準備好了吧！ 　　 如果你會去投票，請留言 #111我會去投票 ，讓我知道好嗎？ 　　 我們現在擁有民主，可以透過選舉表達自己的想法。這是一代又一代的民主前輩，用生命與血汗奮鬥爭取而來的價值，我們應該要好好珍惜。 　　 這次選舉，我一定會去投票，選擇對台灣最好的人選 #3號蔡英文賴清德，選擇對台灣最好的政黨 #14號民主進步黨 。 　　 我擔任總統三年多來，遭遇許多挑戰和困難。但謝謝有你們的支持，我們一路推進改革，堅持目標，逐步落實我們對人民的承諾。雖然我們暫停選舉三天，但是我們全力安定軍心與民心，確保國家的穩定與安全。 　　 謝謝大家仍然持續為我們加油，今天我恢復行程，希望在最後6天，大家一起站出來，一起完成共同的目標。 　　 更重要的是，我希望大家的政黨票支持民進黨，讓我們的國會席次能夠過半，讓我們的進步改革能夠延續。 　　 1月11日，我要拜託大家，一定要出來投票，總統票請支持3號蔡英文、賴清德，政黨票請支持14號民主進步黨，讓進步的力量、守護台灣的力量，能夠繼續為台灣人民服務。 　　 #一個拉一個 #為了台灣回家投票\n"
     ]
    },
    {
     "data": {
      "application/vnd.jupyter.widget-view+json": {
       "model_id": "26462d117cb6408caee935e581bb2649",
       "version_major": 2,
       "version_minor": 0
      },
      "text/plain": [
       "IntProgress(value=0)"
      ]
     },
     "metadata": {},
     "output_type": "display_data"
    },
    {
     "name": "stdout",
     "output_type": "stream",
     "text": [
      "https://m.facebook.com/tsaiingwen/videos/2655852811195331/  處理中...\n",
      "Name:蔡英文 Tsai Ing-wen\n",
      "Link:https://m.facebook.com/tsaiingwen/videos/2655852811195331/\n",
      "Time:January 5 at 9:28 AM · \n",
      "Content:全台大掃街，從我的家鄉屏東出發！ 　　 距離投票日剩下最後6天，明天開始我會跟 賴清德 副總統候選人、 陳建仁 Chen Chien-Jen 副總統、 卓榮泰主席一起，分成四條路線，一連五天，到全台灣各地進行車隊掃街。 　　 1月6日我會從我的家鄉屏東楓港出發，一路往北，跟大家見面。詳細的車隊掃街規劃，我們已經同步在我的LINE＠與官方網站上公布，歡迎大家上去看看我什麼時候會到你家附近，來捕獲野生的蔡英文。 　　 沒有辦法到現場的朋友，也可以線上收看直播，感受車隊掃街的熱情，隨時掌握我們的路線。 　　 最後，我想要跟大家說，車隊掃街還有一個重要的意義，就是這三年多來，感謝大家一路相伴，在我們遇到挫折與壓力時，依然給我們最堅定的支持。 　　 是台灣人民給我勇敢，讓我挺直腰桿，守護台灣，是台灣人民給我自信，讓我永不放棄，堅持改革。謝謝你們，接下來這幾天，我們繼續一起，給我力量，給台灣力量，勇敢自信，我們護台同行。 　　 🚗車掃路線圖：https://iing.tw/posts/1130 👉加入我的LINE：https://spicytaiwan.tw 👉觀看我的官網：https://iing.tw 👉小額捐款給我：https://donate.iing.tw\n"
     ]
    },
    {
     "data": {
      "application/vnd.jupyter.widget-view+json": {
       "model_id": "d2e65d14477f47d08ac399bf84c08486",
       "version_major": 2,
       "version_minor": 0
      },
      "text/plain": [
       "IntProgress(value=0)"
      ]
     },
     "metadata": {},
     "output_type": "display_data"
    },
    {
     "name": "stdout",
     "output_type": "stream",
     "text": [
      "https://m.facebook.com/tsaiingwen/posts/10156347129236065  處理中...\n",
      "Name:蔡英文 Tsai Ing-wen\n",
      "Link:https://m.facebook.com/tsaiingwen/posts/10156347129236065\n",
      "Time:January 4 at 6:05 PM · \n",
      "Content:各位弟兄姊妹，我代替沈總長來看大家了 　　 今天我到空軍第一雷達分隊視察，替沈總長完成他原先的任務。不論發生什麼事情，國家跟我都會照顧好我們的國軍弟兄姊妹。 　　 沈總長和七位同仁的殉職，所有的人都很心痛、不捨，不過堅守崗位、守護國家，就是我們懷念他們最好的方式。 　　 雷達站的弟兄姊妹們也請我把他們對沈總長及韓總士官長的追思敬語，帶到追思會場上。稍早我也再次到了台北賓館，為他們貼上追思卡，傳達敬意。 　　 此外，我要特別感謝來到台北賓館致意的民眾，你們對罹難國軍同仁的敬意，讓我們感受到人民對國軍的支持。 　　 我知道，大家都很關心後續的進展，我們已經展開調查工作，一定會釐清事故原因，也會協助家屬，從優、從寬、從速撫卹。 　　 這次的事故不會擊倒我們，我們不怕挑戰。這就是空軍的志節，也是國軍的志氣。我們要更團結，要更堅強，我們一起加油。\n"
     ]
    },
    {
     "data": {
      "application/vnd.jupyter.widget-view+json": {
       "model_id": "5f55d4f1867c4795984c0d9b19d4712e",
       "version_major": 2,
       "version_minor": 0
      },
      "text/plain": [
       "IntProgress(value=0)"
      ]
     },
     "metadata": {},
     "output_type": "display_data"
    },
    {
     "name": "stdout",
     "output_type": "stream",
     "text": [
      "https://m.facebook.com/tsaiingwen/photos/a.390960786064/10156346595396065/  處理中...\n",
      "Name:蔡英文 Tsai Ing-wen\n",
      "Link:https://m.facebook.com/tsaiingwen/photos/a.390960786064/10156346595396065/\n",
      "Time:Jan 4\n",
      "Content:這兩天，競辦發言人的專訪內容，因為錯誤的表達引起誤會。我想藉這個機會，重申我一直以來明確的態度： 　　 第一，民主是我們守護的核心價值，我們從來不會把不同的政治主張視為叛國。在台灣，統獨爭議一直都在，但也都受到言論自由的保障。過去的威權政府，曾經把不同的政治主張視為犯罪，才形塑了白色恐怖的那段歷史；而民進黨從民主的信仰起家，我們絕對不會重蹈覆轍。 　　 第二，即使政治立場不同，我們還是可以團結成為一個國家，而且不是團結在一言堂之下，而是共同相信，民主機制會幫助我們找到最大公約數。而中華民國台灣就是我們的最大公約數。我在辯論會講得很清楚，我們的國名是中華民國，主權在2300萬人的手上。因此沒有修改國號的問題。 　　 第三，我要重申，擔任中華民國總統最重要的責任，就是維護國家的主權，維護台灣人自由民主的生活方式。 　　 這幾天，當我們共同哀悼著不幸罹難的國軍弟兄袍澤時，我希望每個國人能記得，他們一生投身軍旅，要捍衛的是什麼？當然就是我們國家的主權，和民主的生活方式。 　　 就在今年，不同政治立場的台灣人民，形成了「拒絕一國兩制」的共識。如果有外力想要以武力剝奪我們的主權、拿走我們的民主時，無論是怎樣政治立場的台灣人民，一定都會起身捍衛。在這樣的共識基礎上，我相信，沒有人能摧毀中華民國台灣這座堅實的民主堡壘。\n"
     ]
    },
    {
     "data": {
      "application/vnd.jupyter.widget-view+json": {
       "model_id": "87d8913f7df04856a3863ab941a8a370",
       "version_major": 2,
       "version_minor": 0
      },
      "text/plain": [
       "IntProgress(value=0)"
      ]
     },
     "metadata": {},
     "output_type": "display_data"
    },
    {
     "name": "stdout",
     "output_type": "stream",
     "text": [
      "https://m.facebook.com/tsaiingwen/photos/a.10151242056081065/10156345153496065/  處理中...\n",
      "Name:蔡英文 Tsai Ing-wen\n",
      "Link:https://m.facebook.com/tsaiingwen/photos/a.10151242056081065/10156345153496065/\n",
      "Time:Jan 3\n",
      "Content:面對生命的無常，我們有很多的不捨與煎熬。今天晚上，我們舉行了追思活動，讓我們做彼此的肩膀，為我們失去的八位優秀國軍同袍哀悼，也希望家屬節哀。 　　 追思活動開放民眾參加，若有國人同胞想前往致意，開放時間為明天（1/4）、後天（1/5）兩天早上9點到晚上9點，地點在總統府旁的台北賓館。\n"
     ]
    },
    {
     "data": {
      "application/vnd.jupyter.widget-view+json": {
       "model_id": "89684fb01fc74bd2ba1fec64b76292fe",
       "version_major": 2,
       "version_minor": 0
      },
      "text/plain": [
       "IntProgress(value=0)"
      ]
     },
     "metadata": {},
     "output_type": "display_data"
    },
    {
     "name": "stdout",
     "output_type": "stream",
     "text": [
      "https://m.facebook.com/tsaiingwen/photos/a.390960786064/10156344742196065/  處理中...\n",
      "Name:蔡英文 Tsai Ing-wen\n",
      "Link:https://m.facebook.com/tsaiingwen/photos/a.390960786064/10156344742196065/\n",
      "Time:Jan 3\n",
      "Content:穩定軍心！安定民心！ 　　 今天我到國防部與衡山指揮所視察，為我們國軍弟兄姊妺們打氣。 　　 我知道，參謀總長和幾位同仁的殉職，讓大家都感到不捨。在這個時候，我希望我們國軍更要堅守崗位，扛起國家戰備的任務，讓國防事務如常運作，讓國人安心。 　　 我們一起加油！\n"
     ]
    },
    {
     "data": {
      "application/vnd.jupyter.widget-view+json": {
       "model_id": "db44b4903a064b9faecd4d8106581d1e",
       "version_major": 2,
       "version_minor": 0
      },
      "text/plain": [
       "IntProgress(value=0)"
      ]
     },
     "metadata": {},
     "output_type": "display_data"
    },
    {
     "name": "stdout",
     "output_type": "stream",
     "text": [
      "https://m.facebook.com/tsaiingwen/photos/a.390960786064/10156344267611065/  處理中...\n",
      "Name:蔡英文 Tsai Ing-wen\n",
      "Link:https://m.facebook.com/tsaiingwen/photos/a.390960786064/10156344267611065/\n",
      "Time:Jan 3\n",
      "Content:今天早上，我召開「國防軍事會談」，除了為殉職弟兄默哀，也下達三項任務，要求國軍重要幹部，務必確保國防事務如常運作。繼續堅守崗位，就是紀念沈總長的最好方式。 　　 第一個任務，務必確保軍心民心穩定：國防事務有完整分工，也有代理制度，國軍要堅守崗位，讓國防事務如常運作。 　　 第二個任務，務必確保台海周邊安全：國軍要密切注意台海軍事動態，第一時間快速反應、部署，確保國家安全。 　　 第三個任務，務必確保裝備檢整完善：國軍幹部要嚴格要求各部隊，詳細檢整裝備，維持妥善率，不能有任何鬆懈。 　　 讓軍心穩定，民心如常，是三軍統帥及國軍將領們的責任。這「三個確保」，我們會嚴格督導、認真執行，確保台灣的安全。\n"
     ]
    },
    {
     "data": {
      "application/vnd.jupyter.widget-view+json": {
       "model_id": "cbe81d1fb6a8434d8d5d3a5bc6d4a14f",
       "version_major": 2,
       "version_minor": 0
      },
      "text/plain": [
       "IntProgress(value=0)"
      ]
     },
     "metadata": {},
     "output_type": "display_data"
    },
    {
     "name": "stdout",
     "output_type": "stream",
     "text": [
      "--- 1626.227699995041 秒完成 ---\n"
     ]
    }
   ],
   "source": [
    "# Main\n",
    "\n",
    "# 計時花費時間\n",
    "start_time = time.time()\n",
    "post_index = 0\n",
    "\n",
    "\n",
    "\n",
    "# 取得貼文連結\n",
    "LinkFile = pd.read_excel('your link file')\n",
    "Links = LinkFile['url'].tolist()\n",
    "\n",
    "# 建立DF\n",
    "PostsInformation = pd.DataFrame()\n",
    "PostsComments = pd.DataFrame()\n",
    "\n",
    "for link in Links:\n",
    "    print(link,' 處理中...')\n",
    "    try:\n",
    "        driver.get(link)\n",
    "        #如果是 video 頁面，要再跳轉一次\n",
    "        if bool(re.search(\"watch\",driver.current_url)):\n",
    "            driver.get(driver.find_element_by_xpath('//div[@class=\"_34qc _3hxn _3myz _4b45\"]//a').get_attribute('href'))\n",
    "        \n",
    "        soup = BeautifulSoup(driver.page_source)\n",
    "        PostsInformation = pd.concat([PostsInformation, PostContent(soup,link)],ignore_index=True)\n",
    "        PostsComments = pd.concat([PostsComments, CrawlComment(soup,link)],ignore_index=True)\n",
    "    except:\n",
    "        print('Error: ', sys.exc_info())\n",
    "print(\"--- %s 秒完成 ---\" % (time.time() - start_time))"
   ]
  },
  {
   "cell_type": "code",
   "execution_count": 11,
   "metadata": {
    "scrolled": false
   },
   "outputs": [
    {
     "data": {
      "text/html": [
       "<div>\n",
       "<style scoped>\n",
       "    .dataframe tbody tr th:only-of-type {\n",
       "        vertical-align: middle;\n",
       "    }\n",
       "\n",
       "    .dataframe tbody tr th {\n",
       "        vertical-align: top;\n",
       "    }\n",
       "\n",
       "    .dataframe thead th {\n",
       "        text-align: right;\n",
       "    }\n",
       "</style>\n",
       "<table border=\"1\" class=\"dataframe\">\n",
       "  <thead>\n",
       "    <tr style=\"text-align: right;\">\n",
       "      <th></th>\n",
       "      <th>Name</th>\n",
       "      <th>Link</th>\n",
       "      <th>Time</th>\n",
       "      <th>Content</th>\n",
       "    </tr>\n",
       "  </thead>\n",
       "  <tbody>\n",
       "    <tr>\n",
       "      <th>0</th>\n",
       "      <td>蔡英文 Tsai Ing-wen</td>\n",
       "      <td>https://m.facebook.com/tsaiingwen/posts/101563...</td>\n",
       "      <td>January 5 at 4:45 PM ·</td>\n",
       "      <td>我在台南的造勢活動現場，也在這裡的朋友留言讓我知道好嗎？ 立委 第一選區3號賴惠員 第二選區...</td>\n",
       "    </tr>\n",
       "    <tr>\n",
       "      <th>1</th>\n",
       "      <td>蔡英文 Tsai Ing-wen</td>\n",
       "      <td>https://m.facebook.com/tsaiingwen/photos/a.390...</td>\n",
       "      <td>Jan 5</td>\n",
       "      <td>當國人為國軍將士的殉職全民一體、同感哀傷的時刻，韓國瑜市長卻用「台灣中邪了、國運不昌隆」這樣...</td>\n",
       "    </tr>\n",
       "    <tr>\n",
       "      <th>2</th>\n",
       "      <td>蔡英文 Tsai Ing-wen</td>\n",
       "      <td>https://m.facebook.com/tsaiingwen/photos/a.390...</td>\n",
       "      <td>Jan 5</td>\n",
       "      <td>今天下午15:12分，TVBS將播出這段時間採訪我和我的幕僚的專題「蔡英文改變進行式」，大家...</td>\n",
       "    </tr>\n",
       "    <tr>\n",
       "      <th>3</th>\n",
       "      <td>蔡英文 Tsai Ing-wen</td>\n",
       "      <td>https://m.facebook.com/tsaiingwen/photos/a.390...</td>\n",
       "      <td>Jan 5</td>\n",
       "      <td>你收到選舉公報了嗎？距離投票的日子只剩下6天，準備好了吧！ 　　 如果你會去投票，請留言 #...</td>\n",
       "    </tr>\n",
       "    <tr>\n",
       "      <th>4</th>\n",
       "      <td>蔡英文 Tsai Ing-wen</td>\n",
       "      <td>https://m.facebook.com/tsaiingwen/videos/26558...</td>\n",
       "      <td>January 5 at 9:28 AM ·</td>\n",
       "      <td>全台大掃街，從我的家鄉屏東出發！ 　　 距離投票日剩下最後6天，明天開始我會跟 賴清德 副總...</td>\n",
       "    </tr>\n",
       "    <tr>\n",
       "      <th>5</th>\n",
       "      <td>蔡英文 Tsai Ing-wen</td>\n",
       "      <td>https://m.facebook.com/tsaiingwen/posts/101563...</td>\n",
       "      <td>January 4 at 6:05 PM ·</td>\n",
       "      <td>各位弟兄姊妹，我代替沈總長來看大家了 　　 今天我到空軍第一雷達分隊視察，替沈總長完成他原先...</td>\n",
       "    </tr>\n",
       "    <tr>\n",
       "      <th>6</th>\n",
       "      <td>蔡英文 Tsai Ing-wen</td>\n",
       "      <td>https://m.facebook.com/tsaiingwen/photos/a.390...</td>\n",
       "      <td>Jan 4</td>\n",
       "      <td>這兩天，競辦發言人的專訪內容，因為錯誤的表達引起誤會。我想藉這個機會，重申我一直以來明確的態...</td>\n",
       "    </tr>\n",
       "    <tr>\n",
       "      <th>7</th>\n",
       "      <td>蔡英文 Tsai Ing-wen</td>\n",
       "      <td>https://m.facebook.com/tsaiingwen/photos/a.101...</td>\n",
       "      <td>Jan 3</td>\n",
       "      <td>面對生命的無常，我們有很多的不捨與煎熬。今天晚上，我們舉行了追思活動，讓我們做彼此的肩膀，為...</td>\n",
       "    </tr>\n",
       "    <tr>\n",
       "      <th>8</th>\n",
       "      <td>蔡英文 Tsai Ing-wen</td>\n",
       "      <td>https://m.facebook.com/tsaiingwen/photos/a.390...</td>\n",
       "      <td>Jan 3</td>\n",
       "      <td>穩定軍心！安定民心！ 　　 今天我到國防部與衡山指揮所視察，為我們國軍弟兄姊妺們打氣。 　　...</td>\n",
       "    </tr>\n",
       "    <tr>\n",
       "      <th>9</th>\n",
       "      <td>蔡英文 Tsai Ing-wen</td>\n",
       "      <td>https://m.facebook.com/tsaiingwen/photos/a.390...</td>\n",
       "      <td>Jan 3</td>\n",
       "      <td>今天早上，我召開「國防軍事會談」，除了為殉職弟兄默哀，也下達三項任務，要求國軍重要幹部，務必...</td>\n",
       "    </tr>\n",
       "  </tbody>\n",
       "</table>\n",
       "</div>"
      ],
      "text/plain": [
       "               Name                                               Link  \\\n",
       "0  蔡英文 Tsai Ing-wen  https://m.facebook.com/tsaiingwen/posts/101563...   \n",
       "1  蔡英文 Tsai Ing-wen  https://m.facebook.com/tsaiingwen/photos/a.390...   \n",
       "2  蔡英文 Tsai Ing-wen  https://m.facebook.com/tsaiingwen/photos/a.390...   \n",
       "3  蔡英文 Tsai Ing-wen  https://m.facebook.com/tsaiingwen/photos/a.390...   \n",
       "4  蔡英文 Tsai Ing-wen  https://m.facebook.com/tsaiingwen/videos/26558...   \n",
       "5  蔡英文 Tsai Ing-wen  https://m.facebook.com/tsaiingwen/posts/101563...   \n",
       "6  蔡英文 Tsai Ing-wen  https://m.facebook.com/tsaiingwen/photos/a.390...   \n",
       "7  蔡英文 Tsai Ing-wen  https://m.facebook.com/tsaiingwen/photos/a.101...   \n",
       "8  蔡英文 Tsai Ing-wen  https://m.facebook.com/tsaiingwen/photos/a.390...   \n",
       "9  蔡英文 Tsai Ing-wen  https://m.facebook.com/tsaiingwen/photos/a.390...   \n",
       "\n",
       "                      Time                                            Content  \n",
       "0  January 5 at 4:45 PM ·   我在台南的造勢活動現場，也在這裡的朋友留言讓我知道好嗎？ 立委 第一選區3號賴惠員 第二選區...  \n",
       "1                    Jan 5  當國人為國軍將士的殉職全民一體、同感哀傷的時刻，韓國瑜市長卻用「台灣中邪了、國運不昌隆」這樣...  \n",
       "2                    Jan 5  今天下午15:12分，TVBS將播出這段時間採訪我和我的幕僚的專題「蔡英文改變進行式」，大家...  \n",
       "3                    Jan 5  你收到選舉公報了嗎？距離投票的日子只剩下6天，準備好了吧！ 　　 如果你會去投票，請留言 #...  \n",
       "4  January 5 at 9:28 AM ·   全台大掃街，從我的家鄉屏東出發！ 　　 距離投票日剩下最後6天，明天開始我會跟 賴清德 副總...  \n",
       "5  January 4 at 6:05 PM ·   各位弟兄姊妹，我代替沈總長來看大家了 　　 今天我到空軍第一雷達分隊視察，替沈總長完成他原先...  \n",
       "6                    Jan 4  這兩天，競辦發言人的專訪內容，因為錯誤的表達引起誤會。我想藉這個機會，重申我一直以來明確的態...  \n",
       "7                    Jan 3  面對生命的無常，我們有很多的不捨與煎熬。今天晚上，我們舉行了追思活動，讓我們做彼此的肩膀，為...  \n",
       "8                    Jan 3  穩定軍心！安定民心！ 　　 今天我到國防部與衡山指揮所視察，為我們國軍弟兄姊妺們打氣。 　　...  \n",
       "9                    Jan 3  今天早上，我召開「國防軍事會談」，除了為殉職弟兄默哀，也下達三項任務，要求國軍重要幹部，務必...  "
      ]
     },
     "execution_count": 11,
     "metadata": {},
     "output_type": "execute_result"
    }
   ],
   "source": [
    "PostsInformation"
   ]
  },
  {
   "cell_type": "code",
   "execution_count": 12,
   "metadata": {},
   "outputs": [
    {
     "data": {
      "text/html": [
       "<div>\n",
       "<style scoped>\n",
       "    .dataframe tbody tr th:only-of-type {\n",
       "        vertical-align: middle;\n",
       "    }\n",
       "\n",
       "    .dataframe tbody tr th {\n",
       "        vertical-align: top;\n",
       "    }\n",
       "\n",
       "    .dataframe thead th {\n",
       "        text-align: right;\n",
       "    }\n",
       "</style>\n",
       "<table border=\"1\" class=\"dataframe\">\n",
       "  <thead>\n",
       "    <tr style=\"text-align: right;\">\n",
       "      <th></th>\n",
       "      <th>Post_Link</th>\n",
       "      <th>User_ID</th>\n",
       "      <th>Comment</th>\n",
       "      <th>Comment_Time</th>\n",
       "      <th>Attachment</th>\n",
       "      <th>Fan_Type</th>\n",
       "    </tr>\n",
       "  </thead>\n",
       "  <tbody>\n",
       "    <tr>\n",
       "      <th>0</th>\n",
       "      <td>https://m.facebook.com/tsaiingwen/posts/101563...</td>\n",
       "      <td>100007949447494</td>\n",
       "      <td>唯一不變的堅持！民進黨加油 全壘打👍</td>\n",
       "      <td>2 mos</td>\n",
       "      <td>0</td>\n",
       "      <td>0</td>\n",
       "    </tr>\n",
       "    <tr>\n",
       "      <th>1</th>\n",
       "      <td>https://m.facebook.com/tsaiingwen/posts/101563...</td>\n",
       "      <td>100005895276120</td>\n",
       "      <td>我愛台灣，所以我也在現場，大家一起加油💪</td>\n",
       "      <td>2 mos</td>\n",
       "      <td>0</td>\n",
       "      <td>0</td>\n",
       "    </tr>\n",
       "    <tr>\n",
       "      <th>2</th>\n",
       "      <td>https://m.facebook.com/tsaiingwen/posts/101563...</td>\n",
       "      <td>691610069</td>\n",
       "      <td>台灣人一定一定要投票 要不然下次走上街頭是你們的了 我們香港人為你們加油</td>\n",
       "      <td>2 mos</td>\n",
       "      <td>0</td>\n",
       "      <td>0</td>\n",
       "    </tr>\n",
       "    <tr>\n",
       "      <th>3</th>\n",
       "      <td>https://m.facebook.com/tsaiingwen/posts/101563...</td>\n",
       "      <td>100000510090981</td>\n",
       "      <td>2020台灣要贏！謝謝小英妳辛苦了！加油💪</td>\n",
       "      <td>2 mos</td>\n",
       "      <td>0</td>\n",
       "      <td>0</td>\n",
       "    </tr>\n",
       "    <tr>\n",
       "      <th>4</th>\n",
       "      <td>https://m.facebook.com/tsaiingwen/posts/101563...</td>\n",
       "      <td>100004713856532</td>\n",
       "      <td>台灣加油，下架吳斯懷</td>\n",
       "      <td>2 mos</td>\n",
       "      <td>0</td>\n",
       "      <td>0</td>\n",
       "    </tr>\n",
       "    <tr>\n",
       "      <th>...</th>\n",
       "      <td>...</td>\n",
       "      <td>...</td>\n",
       "      <td>...</td>\n",
       "      <td>...</td>\n",
       "      <td>...</td>\n",
       "      <td>...</td>\n",
       "    </tr>\n",
       "    <tr>\n",
       "      <th>28221</th>\n",
       "      <td>https://m.facebook.com/tsaiingwen/photos/a.390...</td>\n",
       "      <td>100031392452407</td>\n",
       "      <td>一堆人留言真他媽的狗兒子一樣！說什麼發生了才知道檢討？是喝神仙水嗎能預判國家大事嗎？狗兒子都...</td>\n",
       "      <td>2 mos</td>\n",
       "      <td>0</td>\n",
       "      <td>0</td>\n",
       "    </tr>\n",
       "    <tr>\n",
       "      <th>28222</th>\n",
       "      <td>https://m.facebook.com/tsaiingwen/photos/a.390...</td>\n",
       "      <td>100003686517730</td>\n",
       "      <td>Sticker</td>\n",
       "      <td>2 mos</td>\n",
       "      <td>0</td>\n",
       "      <td>0</td>\n",
       "    </tr>\n",
       "    <tr>\n",
       "      <th>28223</th>\n",
       "      <td>https://m.facebook.com/tsaiingwen/photos/a.390...</td>\n",
       "      <td>100000294513304</td>\n",
       "      <td>他就是一隻非洲豬溫早死早下地獄可悪</td>\n",
       "      <td>2 mos</td>\n",
       "      <td>0</td>\n",
       "      <td>0</td>\n",
       "    </tr>\n",
       "    <tr>\n",
       "      <th>28224</th>\n",
       "      <td>https://m.facebook.com/tsaiingwen/photos/a.390...</td>\n",
       "      <td>100040483580756</td>\n",
       "      <td>蔡英文總統加油💪 台灣加油💪  #台灣人團結 #致敬救援人員及國軍弟兄</td>\n",
       "      <td>2 mos</td>\n",
       "      <td>0</td>\n",
       "      <td>0</td>\n",
       "    </tr>\n",
       "    <tr>\n",
       "      <th>28225</th>\n",
       "      <td>https://m.facebook.com/tsaiingwen/photos/a.390...</td>\n",
       "      <td>600175399</td>\n",
       "      <td>Sticker</td>\n",
       "      <td>2 mos</td>\n",
       "      <td>0</td>\n",
       "      <td>0</td>\n",
       "    </tr>\n",
       "  </tbody>\n",
       "</table>\n",
       "<p>28226 rows × 6 columns</p>\n",
       "</div>"
      ],
      "text/plain": [
       "                                               Post_Link          User_ID  \\\n",
       "0      https://m.facebook.com/tsaiingwen/posts/101563...  100007949447494   \n",
       "1      https://m.facebook.com/tsaiingwen/posts/101563...  100005895276120   \n",
       "2      https://m.facebook.com/tsaiingwen/posts/101563...        691610069   \n",
       "3      https://m.facebook.com/tsaiingwen/posts/101563...  100000510090981   \n",
       "4      https://m.facebook.com/tsaiingwen/posts/101563...  100004713856532   \n",
       "...                                                  ...              ...   \n",
       "28221  https://m.facebook.com/tsaiingwen/photos/a.390...  100031392452407   \n",
       "28222  https://m.facebook.com/tsaiingwen/photos/a.390...  100003686517730   \n",
       "28223  https://m.facebook.com/tsaiingwen/photos/a.390...  100000294513304   \n",
       "28224  https://m.facebook.com/tsaiingwen/photos/a.390...  100040483580756   \n",
       "28225  https://m.facebook.com/tsaiingwen/photos/a.390...        600175399   \n",
       "\n",
       "                                                 Comment Comment_Time  \\\n",
       "0                                     唯一不變的堅持！民進黨加油 全壘打👍        2 mos   \n",
       "1                                   我愛台灣，所以我也在現場，大家一起加油💪        2 mos   \n",
       "2                   台灣人一定一定要投票 要不然下次走上街頭是你們的了 我們香港人為你們加油        2 mos   \n",
       "3                                  2020台灣要贏！謝謝小英妳辛苦了！加油💪        2 mos   \n",
       "4                                             台灣加油，下架吳斯懷        2 mos   \n",
       "...                                                  ...          ...   \n",
       "28221  一堆人留言真他媽的狗兒子一樣！說什麼發生了才知道檢討？是喝神仙水嗎能預判國家大事嗎？狗兒子都...        2 mos   \n",
       "28222                                            Sticker        2 mos   \n",
       "28223                                  他就是一隻非洲豬溫早死早下地獄可悪        2 mos   \n",
       "28224                蔡英文總統加油💪 台灣加油💪  #台灣人團結 #致敬救援人員及國軍弟兄        2 mos   \n",
       "28225                                            Sticker        2 mos   \n",
       "\n",
       "       Attachment  Fan_Type  \n",
       "0               0         0  \n",
       "1               0         0  \n",
       "2               0         0  \n",
       "3               0         0  \n",
       "4               0         0  \n",
       "...           ...       ...  \n",
       "28221           0         0  \n",
       "28222           0         0  \n",
       "28223           0         0  \n",
       "28224           0         0  \n",
       "28225           0         0  \n",
       "\n",
       "[28226 rows x 6 columns]"
      ]
     },
     "execution_count": 12,
     "metadata": {},
     "output_type": "execute_result"
    }
   ],
   "source": [
    "PostsComments"
   ]
  },
  {
   "cell_type": "code",
   "execution_count": 13,
   "metadata": {},
   "outputs": [],
   "source": [
    "# 寫為csv檔案\n",
    "PostsInformation.to_csv('Posts_Infomation{}.csv'.format(int(time.time())), encoding='utf_8_sig')\n",
    "PostsComments.to_csv('Posts_Comments{}.csv'.format(int(time.time())), encoding='utf_8_sig')"
   ]
  },
  {
   "cell_type": "code",
   "execution_count": null,
   "metadata": {},
   "outputs": [],
   "source": []
  }
 ],
 "metadata": {
  "kernelspec": {
   "display_name": "Python 3",
   "language": "python",
   "name": "python3"
  },
  "language_info": {
   "codemirror_mode": {
    "name": "ipython",
    "version": 3
   },
   "file_extension": ".py",
   "mimetype": "text/x-python",
   "name": "python",
   "nbconvert_exporter": "python",
   "pygments_lexer": "ipython3",
   "version": "3.7.4"
  },
  "varInspector": {
   "cols": {
    "lenName": 16,
    "lenType": 16,
    "lenVar": 40
   },
   "kernels_config": {
    "python": {
     "delete_cmd_postfix": "",
     "delete_cmd_prefix": "del ",
     "library": "var_list.py",
     "varRefreshCmd": "print(var_dic_list())"
    },
    "r": {
     "delete_cmd_postfix": ") ",
     "delete_cmd_prefix": "rm(",
     "library": "var_list.r",
     "varRefreshCmd": "cat(var_dic_list()) "
    }
   },
   "types_to_exclude": [
    "module",
    "function",
    "builtin_function_or_method",
    "instance",
    "_Feature"
   ],
   "window_display": false
  }
 },
 "nbformat": 4,
 "nbformat_minor": 2
}
